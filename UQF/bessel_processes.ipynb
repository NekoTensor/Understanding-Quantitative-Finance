{
 "cells": [
  {
   "attachments": {},
   "cell_type": "markdown",
   "metadata": {
    "jp-MarkdownHeadingCollapsed": true,
    "tags": []
   },
   "source": [
    "#   Bessel Processes\n",
    "\n",
    "The purpose of this notebook is to provide an illustration of the [Bessel Processes](https://en.wikipedia.org/wiki/Bessel_process) and some of its main properties. "
   ]
  },
  {
   "attachments": {},
   "cell_type": "markdown",
   "metadata": {},
   "source": [
    "## Introduction\n",
    "\n",
    "Let $W_t = (W^1_t, \\cdots, W^n_t)$ be a n-dimensional Browanian Motion for some $n\\in\\mathbb{N}$. The Bessel process of dimension $n$ is defined as follows \n",
    "\n",
    "\\begin{equation}\n",
    "X_t = \\|W_t\\|,\n",
    "\\end{equation}\n",
    "where $\\| \\ \\   \\| $ denotes the Euclidean norm in $\\mathbb{R}^n$, or equivalently\n",
    "\\begin{equation}\n",
    "X_t^2 = \\sum_{i=1}^n (W^i_t)^2.\n",
    "\\end{equation}\n",
    "\n",
    "Ito's formula implies\n",
    "\n",
    "\\begin{equation}\n",
    "dX_t^2 = n dt + \\sum_{i=1}^n 2(W^i_t)dW^i_t .\n",
    "\\end{equation}"
   ]
  },
  {
   "cell_type": "markdown",
   "metadata": {},
   "source": [
    "Next, we observe that $\\mathbb{P}(X_t = 0) =0$ for any $t>0$, and define the process \n",
    "\\begin{equation}\n",
    "dB_t =  \\dfrac{1}{X_t} \\sum_{i=1}^nW_t^i dW_t^i, \\qquad t>0.\n",
    "\\end{equation}\n",
    "It is not difficult to see that the process $B$ is a real-valued Brownian motion. \n",
    "\n",
    "Hence, we have \n",
    "\\begin{equation}\n",
    "dX_t^2 = n dt + 2 X_t dB_t,\n",
    "\\end{equation}\n",
    "which is equivalent to \n",
    "\\begin{equation}\n",
    "dY_t = n dt + 2 \\sqrt{Y_t} dB_t,\n",
    "\\end{equation}\n",
    "where $Y_t = X^2_t$."
   ]
  },
  {
   "cell_type": "markdown",
   "metadata": {},
   "source": [
    "For $n>1$, Ito's formula implies\n",
    "\\begin{equation}\n",
    "dX_t= dB_t + \\dfrac{(n-1)}{2} \\dfrac{dt}{X_t}\n",
    "\\end{equation}\n",
    "\n",
    "The case $n=1$ can be derived from Tanaka's formula."
   ]
  },
  {
   "cell_type": "markdown",
   "metadata": {},
   "source": [
    "## Definition\n",
    "\n",
    "For every $\\alpha\\geq 0$ and $x\\geq 0$,  a squared Bessel process with dimension $\\alpha$, starting at $y$ is defined as the unique stron solution to the SDE\n",
    "\n",
    "\\begin{align}\n",
    "dY_t &= \\alpha dt + 2 \\sqrt{ Y_t } dB_t,  \\qquad Y_t\\geq 0 \\\\\n",
    "Y_0 & = y,\n",
    "\\end{align}\n",
    "\n",
    "and is denoted by $BESQ^{\\delta}_y$. \n",
    "\n",
    "Moreover, the process $X_t = \\sqrt{Y_t}$, is called a Bessel process of dimension $\\alpha$, starting at $x = \\sqrt{y}$,  and is denoted by $BES^{\\delta}_x$. \n",
    "\n",
    "Bessel processes are commonly parameterised as $BES^{(\\nu)}$ where $\\nu$ is imply  \n",
    "\n",
    "$$\\nu  = \\frac{\\alpha}{2} -1.$$\n",
    "\n",
    "Hereafter, we are going to use this parameterisation."
   ]
  },
  {
   "cell_type": "markdown",
   "metadata": {},
   "source": [
    "### Existence and Uniqueness\n",
    "\n",
    "In order to demonstrate that equation (5.1) has a solution we need to introduce the following two results which can be found in [Jeanblanc, Yor, Chesney, 2009].\n",
    "\n",
    "\n",
    "**Theorem 1.** Consider the SDE\n",
    "\\begin{equation}\n",
    "X_t =X_0 + \\int_0^t b(s,X_s) ds + \\int_0^t\\sigma(s,X_s)dW_s.\n",
    "\\end{equation}\n",
    "Suppose $\\varphi : (0,\\infty) \\rightarrow (0,\\infty)$ is a Borel function such that \n",
    "\n",
    "$$ \\int_0^{\\infty} \\dfrac{da}{\\varphi(a)}  = \\infty.$$\n",
    "\n",
    "If any of the following conditions holds, then the equation admits a unique solution which is is strong. Moreover the solution $X$ is a Markov process.\n",
    "\n",
    "1. the function $b$ is bounded, the function $\\sigma$ does not depend on the time variable and satisfies\n",
    "\n",
    "$$ |\\sigma(x) - \\sigma(y)|^2 \\leq \\varphi(|x-y|), $$\n",
    "\n",
    "and $|\\sigma|\\geq \\epsilon >0$.\n",
    "\n",
    "2. $b$ is Lipschitz continuous, and \n",
    "\n",
    "$$ |\\sigma(s,x) - \\sigma(s, y)|^2 \\leq \\varphi(|x-y|). $$\n",
    "\n",
    "\n",
    "3. $b$ is bounded, and $\\sigma$ does not depend on the time variable and satisfies\n",
    "\n",
    "$$ |\\sigma(x) - \\sigma(y)|^2 \\leq |f(x) - f(y)|, $$\n",
    "\n",
    "where $f$ is a bounded increasing function, $|\\sigma|\\geq \\epsilon >0$.\n",
    "\n",
    "\n",
    "**Theorem 2. (Comparison Theorem)** Consider the two SDEs\n",
    "\n",
    "\\begin{equation}\n",
    "dX^i_t = b_i(t, X^i_t) dt + \\sigma(t,X^i_t) dW_t, \\qquad i =1,2;\n",
    "\\end{equation}\n",
    "where the functions $b_i$ are both bounded and at least one of them is Lipschitz; and $\\sigma$ satisfies condition (2) or (3) in Theorem 1.  Suppose also that $X^1_0 \\geq X^2_0,$ and $b_1(x) \\geq b_2(x)$. Then $X^1_t \\geq X^2_t$ for all $t$, almost surely.\n",
    "\n"
   ]
  },
  {
   "cell_type": "markdown",
   "metadata": {},
   "source": [
    "Now, in order to show that (1) has a unique solution we introduce the SDE\n",
    "\n",
    "\\begin{align}\n",
    "dY_t &= \\alpha dt + 2 \\sqrt{ |Y_t| } dB_t,  \\qquad Y_t\\geq 0 \\\\\n",
    "Y_0 & = y.\n",
    "\\end{align}\n",
    "\n",
    "Then, using the elementary inequality \n",
    "\n",
    "$$|\\sqrt{x} - \\sqrt{y}| \\leq \\sqrt{|x-y|},  \\qquad x, y \\geq 0,$$\n",
    "\n",
    "Theorem 1 implies that for every $\\delta \\geq 0$ the equation () has a unique strong solution. Such solution is called the squared Bessel process of dimension $\\alpha$ and is denoted by $BESQ^{\\alpha}$.\n",
    "\n",
    "### Why we can drop the absolute value inside the square root \n",
    "\n",
    "First, we should note that if the process starts at zero, i.e. $y=0$, and $\\alpha=0$, then the $Y=0$ is the unique solution.\n",
    "\n",
    "Moreover, consider $0\\leq \\alpha \\leq \\alpha'$ and let $Y$ and $Y'$ the corresponding squared Besses processes $BESQ^{\\alpha}$ and $BESQ^{\\alpha'}$ both starting at the same initial condition. Then the Comparison Theorem imples that \n",
    "\n",
    "$$ 0\\leq Y_t \\leq Y_t', \\qquad \\hbox{almost surely.}$$\n",
    "\n",
    "Thus, $Y$ satistifies $Y_t\\geq 0$ for all $t\\geq 0$, and the absolute value inside the square root term is not needed. So, hereafter we will ommit it."
   ]
  },
  {
   "cell_type": "markdown",
   "metadata": {},
   "source": []
  },
  {
   "cell_type": "markdown",
   "metadata": {},
   "source": []
  }
 ],
 "metadata": {
  "kernelspec": {
   "display_name": ".venv",
   "language": "python",
   "name": "python3"
  },
  "language_info": {
   "codemirror_mode": {
    "name": "ipython",
    "version": 3
   },
   "file_extension": ".py",
   "mimetype": "text/x-python",
   "name": "python",
   "nbconvert_exporter": "python",
   "pygments_lexer": "ipython3",
   "version": "3.9.10"
  },
  "toc": {
   "base_numbering": 1,
   "nav_menu": {},
   "number_sections": true,
   "sideBar": true,
   "skip_h1_title": true,
   "title_cell": "Table of Contents",
   "title_sidebar": "Contents",
   "toc_cell": true,
   "toc_position": {
    "height": "calc(100% - 180px)",
    "left": "10px",
    "top": "150px",
    "width": "244.59375px"
   },
   "toc_section_display": true,
   "toc_window_display": true
  }
 },
 "nbformat": 4,
 "nbformat_minor": 4
}
