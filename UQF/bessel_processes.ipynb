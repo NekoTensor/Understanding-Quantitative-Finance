{
 "cells": [
  {
   "attachments": {},
   "cell_type": "markdown",
   "metadata": {
    "jp-MarkdownHeadingCollapsed": true,
    "tags": []
   },
   "source": [
    "#   Bessel Processes Part I\n",
    "\n",
    "The purpose of this notebook is to provide an illustration of the [Bessel Processes](https://en.wikipedia.org/wiki/Bessel_process) and some of its main properties. \n"
   ]
  },
  {
   "attachments": {},
   "cell_type": "markdown",
   "metadata": {},
   "source": [
    "## Integer Case\n",
    "\n",
    "Let $W_t = (W^1_t, \\cdots, W^n_t)$ be a n-dimensional Browanian Motion for some $n\\in\\mathbb{N}$. The Bessel process of dimension $n$ is defined as follows \n",
    "\n",
    "\\begin{equation}\n",
    "X_t = \\|W_t\\|,\n",
    "\\end{equation}\n",
    "where $\\| \\ \\   \\| $ denotes the Euclidean norm in $\\mathbb{R}^n$. That is, \n",
    "\n",
    "\\begin{equation}\n",
    "X_t = \\sqrt{\\sum_{i=1}^n (W^i_t)^2},\n",
    "\\end{equation}"
   ]
  },
  {
   "cell_type": "markdown",
   "metadata": {},
   "source": [
    "Observe that given each component $W^i_t\\sim \\mathcal{N}(0,t)$, by definition. So we can write\n",
    "\n",
    "\\begin{equation*}\n",
    "X_t =  t \\sqrt{ \\sum_{i=1}^n \\left( \\dfrac{W_t^i}{t} \\right)^2 }.\n",
    "\\end{equation*}\n",
    "\n",
    "This implies that $X_t$ is a scaled Chi random variable."
   ]
  },
  {
   "cell_type": "markdown",
   "metadata": {},
   "source": [
    "Similarly, we can set\n",
    "\\begin{equation}\n",
    "X_t^2 = \\sum_{i=1}^n (W^i_t)^2.\n",
    "\\end{equation}"
   ]
  },
  {
   "cell_type": "markdown",
   "metadata": {},
   "source": [
    "Note that each component $W^i_t\\sim \\mathcal{N}(0,t)$, by definition. So we can write\n",
    "\n",
    "\\begin{equation*}\n",
    "X_t^2 =  t^2 \\sum_{i=1}^n \\left( \\dfrac{W_t^i}{t} \\right)^2.\n",
    "\\end{equation*}\n",
    "\n",
    "This implies that $X_t^2$ is a scaled Chi-squared random variable."
   ]
  },
  {
   "cell_type": "markdown",
   "metadata": {},
   "source": [
    "## Generalisation\n"
   ]
  },
  {
   "cell_type": "markdown",
   "metadata": {},
   "source": [
    "Ito's formula implies that\n",
    "\n",
    "\\begin{equation}\n",
    "dX_t^2 = n dt + \\sum_{i=1}^n 2(W^i_t)dW^i_t, \\quad t > 0,\n",
    "\\end{equation}\n",
    "\n",
    "and $X_0=0$."
   ]
  },
  {
   "cell_type": "markdown",
   "metadata": {},
   "source": [
    "Now, observe that $\\mathbb{P}(X_t = 0) =0$ for any $t>0$. So, we can define the process $B=\\{B_t t\\geq 0\\}$ as\n",
    "\n",
    "\\begin{equation}\n",
    "B_t = \\sum_{i=1}^n  \\int_0^t  \\dfrac{W_s^i}{X_s}  dW_s^i, \\qquad t>0,\n",
    "\\end{equation}\n",
    "\n",
    "and $B_0=0$."
   ]
  },
  {
   "cell_type": "markdown",
   "metadata": {},
   "source": [
    "The key observation here is that \n",
    "\n",
    "\\begin{equation*}\n",
    "\\langle B, B \\rangle_t =  \\sum_{i=1}^n \\int_0^t \\dfrac{(W_s^i)^2}{ X_s^2} ds = t\n",
    "\\end{equation*}\n",
    "\n",
    "Thus, the process $B$ is a standard one-dimensional Brownian motion. "
   ]
  },
  {
   "cell_type": "markdown",
   "metadata": {},
   "source": [
    "Hence, we have \n",
    "\\begin{equation}\n",
    "dX_t^2 = n dt + 2 X_t dB_t, \\quad t \\geq 0,\n",
    "\\end{equation}\n",
    "which is equivalent to \n",
    "\\begin{equation}\n",
    "dY_t = n dt + 2 \\sqrt{Y\n",
    "_t} dB_t,\n",
    "\\end{equation}\n",
    "where $Y_t = X^2_t$."
   ]
  },
  {
   "cell_type": "markdown",
   "metadata": {},
   "source": [
    "For $n>1$, Ito's formula implies\n",
    "\\begin{equation}\n",
    "dX_t= \\dfrac{(n-1)}{2} \\dfrac{dt}{X_t} + dB_t,  \\quad t\\geq 0.\n",
    "\\end{equation}\n",
    "\n",
    "The case $n=1$ can be derived from Tanaka's formula."
   ]
  },
  {
   "cell_type": "markdown",
   "metadata": {},
   "source": [
    "## General Definition\n",
    "\n",
    "For every $\\delta\\geq 0$ and $x\\geq 0$,  a squared Bessel process with dimension $\\delta$, starting at $y$ is defined as the unique stron solution to the SDE\n",
    "\n",
    "\\begin{align}\n",
    "dY_t &= \\delta dt + 2 \\sqrt{ Y_t } dB_t,  \\qquad t\\geq 0 \\\\\n",
    "Y_0 & = y,\n",
    "\\end{align}\n",
    "\n",
    "and is denoted by $BESQ^{\\delta}_y$. \n",
    "\n",
    "Moreover, the process $X_t = \\sqrt{Y_t}$, is called a Bessel process of dimension $\\delta$, starting at $x = \\sqrt{y}$,  and is denoted by $BES^{\\delta}_x$. \n",
    "\n",
    "Bessel processes are commonly parameterised as $BES^{(\\nu)}$ where $\\nu$ is imply  \n",
    "\n",
    "$$\\nu  = \\frac{\\delta}{2} -1.$$\n",
    "\n",
    "Hereafter, we are going to use this parameterisation."
   ]
  },
  {
   "cell_type": "markdown",
   "metadata": {},
   "source": [
    "### Existence and Uniqueness\n",
    "\n",
    "In order to demonstrate that equation (5.1) has a solution we need to introduce the following two results which can be found in [Jeanblanc, Yor, Chesney, 2009].\n",
    "\n",
    "\n",
    "**Theorem 1.** Consider the SDE\n",
    "\\begin{equation}\n",
    "X_t =X_0 + \\int_0^t b(s,X_s) ds + \\int_0^t\\sigma(s,X_s)dW_s.\n",
    "\\end{equation}\n",
    "Suppose $\\varphi : (0,\\infty) \\rightarrow (0,\\infty)$ is a Borel function such that \n",
    "\n",
    "$$ \\int_0^{\\infty} \\dfrac{da}{\\varphi(a)}  = \\infty.$$\n",
    "\n",
    "If any of the following conditions holds, then the equation admits a unique solution which is is strong. Moreover the solution $X$ is a Markov process.\n",
    "\n",
    "1. the function $b$ is bounded, the function $\\sigma$ does not depend on the time variable and satisfies\n",
    "\n",
    "$$ |\\sigma(x) - \\sigma(y)|^2 \\leq \\varphi(|x-y|), $$\n",
    "\n",
    "and $|\\sigma|\\geq \\epsilon >0$.\n",
    "\n",
    "2. $b$ is Lipschitz continuous, and \n",
    "\n",
    "$$ |\\sigma(s,x) - \\sigma(s, y)|^2 \\leq \\varphi(|x-y|). $$\n",
    "\n",
    "\n",
    "3. $b$ is bounded, and $\\sigma$ does not depend on the time variable and satisfies\n",
    "\n",
    "$$ |\\sigma(x) - \\sigma(y)|^2 \\leq |f(x) - f(y)|, $$\n",
    "\n",
    "where $f$ is a bounded increasing function, $|\\sigma|\\geq \\epsilon >0$.\n",
    "\n",
    "\n",
    "**Theorem 2. (Comparison Theorem)** Consider the two SDEs\n",
    "\n",
    "\\begin{equation}\n",
    "dX^i_t = b_i(t, X^i_t) dt + \\sigma(t,X^i_t) dW_t, \\qquad i =1,2;\n",
    "\\end{equation}\n",
    "where the functions $b_i$ are both bounded and at least one of them is Lipschitz; and $\\sigma$ satisfies condition (2) or (3) in Theorem 1.  Suppose also that $X^1_0 \\geq X^2_0,$ and $b_1(x) \\geq b_2(x)$. Then $X^1_t \\geq X^2_t$ for all $t$, almost surely.\n",
    "\n"
   ]
  },
  {
   "cell_type": "markdown",
   "metadata": {},
   "source": [
    "Now, in order to show that (1) has a unique solution we introduce the SDE\n",
    "\n",
    "\\begin{align}\n",
    "dY_t &= \\delta dt + 2 \\sqrt{ |Y_t| } dB_t,  \\qquad Y_t\\geq 0 \\\\\n",
    "Y_0 & = y.\n",
    "\\end{align}\n",
    "\n",
    "Then, using the elementary inequality \n",
    "\n",
    "$$|\\sqrt{x} - \\sqrt{y}| \\leq \\sqrt{|x-y|},  \\qquad x, y \\geq 0,$$\n",
    "\n",
    "Theorem 1 implies that for every $\\delta \\geq 0$ the equation () has a unique strong solution. Such solution is called the squared Bessel process of dimension $\\delta$ and is denoted by $BESQ^{\\delta}$.\n",
    "\n",
    "### Why we can drop the absolute value inside the square root \n",
    "\n",
    "First, we should note that if the process starts at zero, i.e. $y=0$, and $\\delta=0$, then the $Y=0$ is the unique solution.\n",
    "\n",
    "Moreover, consider $0\\leq \\delta \\leq \\delta'$ and let $Y$ and $Y'$ the corresponding squared Besses processes $BESQ^{\\delta}$ and $BESQ^{\\delta'}$ both starting at the same initial condition. Then the Comparison Theorem imples that \n",
    "\n",
    "$$ 0\\leq Y_t \\leq Y_t', \\qquad \\hbox{almost surely.}$$\n",
    "\n",
    "Thus, $Y$ satistifies $Y_t\\geq 0$ for all $t\\geq 0$, and the absolute value inside the square root term is not needed. So, hereafter we will ommit it."
   ]
  },
  {
   "cell_type": "markdown",
   "metadata": {},
   "source": [
    "## Expectation and Variance\n",
    "\n",
    "For each $t>0$, the conditional marginal $Y_t|Y_0$ from a squared Bessel process satisfies\n",
    "\n",
    "\\begin{equation*}\n",
    "\\mathbf{E}[Y_t] = \\mathbb{E}[Y_t|Y_0=y]= y + \\delta t,\n",
    "\\end{equation*}\n",
    "\n",
    "and\n",
    "\n",
    "\\begin{equation*}\n",
    "\\mathbf{Var} [Y_t ] = \\mathbb{Var} [Y_t |Y_0] = 2t(2y + \\delta t)\n",
    "\\end{equation*}"
   ]
  },
  {
   "cell_type": "markdown",
   "metadata": {},
   "source": [
    "### Python Implementation\n",
    "\n",
    "For given $y, \\delta>0$, and $t>0$ we can implement the above formulas for the expectation, and variance, as follows. "
   ]
  },
  {
   "cell_type": "code",
   "execution_count": 44,
   "metadata": {},
   "outputs": [
    {
     "name": "stdout",
     "output_type": "stream",
     "text": [
      "For y_0=2.5, delta=3.0, t=1.0\n",
      "E[Y_t] =  5.5000\n",
      "Var[Y_t] = 16.0000\n"
     ]
    }
   ],
   "source": [
    "import numpy as np\n",
    "\n",
    "y0 = 2.5\n",
    "delta = 3.0\n",
    "t = 1.0\n",
    "\n",
    "exp = y0 + delta*t\n",
    "var = 2.0*t*(2*y0 + delta*t)\n",
    "\n",
    "print(f'For y_0={y0}' , f'delta={delta}', f't={t}', sep=\", \")\n",
    "print(f'E[Y_t] = {exp: .4f}')\n",
    "print(f'Var[Y_t] = {var :.4f}')"
   ]
  },
  {
   "cell_type": "code",
   "execution_count": 36,
   "metadata": {},
   "outputs": [],
   "source": [
    "import matplotlib.pyplot as plt"
   ]
  },
  {
   "cell_type": "code",
   "execution_count": 5,
   "metadata": {},
   "outputs": [],
   "source": [
    "from aleatory.processes import BESProcess, BESQProcess\n",
    "bes = BESProcess(dim=10)\n",
    "besq = BESQProcess(dim=10)"
   ]
  },
  {
   "cell_type": "code",
   "execution_count": 53,
   "metadata": {},
   "outputs": [],
   "source": [
    "from scipy.stats import ncx2 \n",
    "\n",
    "x0 = 1.0\n",
    "T = 1.0\n",
    "n = 10\n",
    "delta = 3.0\n",
    "times = np.linspace(0, T, n)"
   ]
  },
  {
   "cell_type": "code",
   "execution_count": 56,
   "metadata": {},
   "outputs": [
    {
     "name": "stdout",
     "output_type": "stream",
     "text": [
      "[6.35354197]\n",
      "[1.20860112]\n",
      "[4.28307475]\n",
      "[10.5009337]\n",
      "[10.1964582]\n",
      "[5.64853793]\n",
      "[4.13428885]\n",
      "[2.9076153]\n",
      "[9.94790936]\n"
     ]
    }
   ],
   "source": [
    "path = [x0]\n",
    "\n",
    "for t in times[1:]:\n",
    "     x = ncx2(df=delta, nc=x0/t).rvs(1)\n",
    "     print(x)\n"
   ]
  },
  {
   "cell_type": "markdown",
   "metadata": {},
   "source": []
  },
  {
   "cell_type": "markdown",
   "metadata": {},
   "source": []
  }
 ],
 "metadata": {
  "kernelspec": {
   "display_name": ".venv",
   "language": "python",
   "name": "python3"
  },
  "language_info": {
   "codemirror_mode": {
    "name": "ipython",
    "version": 3
   },
   "file_extension": ".py",
   "mimetype": "text/x-python",
   "name": "python",
   "nbconvert_exporter": "python",
   "pygments_lexer": "ipython3",
   "version": "3.9.10"
  },
  "toc": {
   "base_numbering": 1,
   "nav_menu": {},
   "number_sections": true,
   "sideBar": true,
   "skip_h1_title": true,
   "title_cell": "Table of Contents",
   "title_sidebar": "Contents",
   "toc_cell": true,
   "toc_position": {
    "height": "calc(100% - 180px)",
    "left": "10px",
    "top": "150px",
    "width": "244.59375px"
   },
   "toc_section_display": true,
   "toc_window_display": true
  }
 },
 "nbformat": 4,
 "nbformat_minor": 4
}
